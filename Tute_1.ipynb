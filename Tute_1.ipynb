{
  "nbformat": 4,
  "nbformat_minor": 0,
  "metadata": {
    "colab": {
      "name": "Tute-1.ipynb",
      "provenance": [],
      "authorship_tag": "ABX9TyN8ff9rVOEIWUSkdgkNUbzn",
      "include_colab_link": true
    },
    "kernelspec": {
      "name": "python3",
      "display_name": "Python 3"
    },
    "language_info": {
      "name": "python"
    }
  },
  "cells": [
    {
      "cell_type": "markdown",
      "metadata": {
        "id": "view-in-github",
        "colab_type": "text"
      },
      "source": [
        "<a href=\"https://colab.research.google.com/github/AdshayaniPirapaharan/ADBMS/blob/master/Tute_1.ipynb\" target=\"_parent\"><img src=\"https://colab.research.google.com/assets/colab-badge.svg\" alt=\"Open In Colab\"/></a>"
      ]
    },
    {
      "cell_type": "code",
      "execution_count": 7,
      "metadata": {
        "colab": {
          "base_uri": "https://localhost:8080/"
        },
        "id": "n6sbhqfdPx-f",
        "outputId": "5d5aacc1-b910-4c16-e34b-f8a5f861f5de"
      },
      "outputs": [
        {
          "output_type": "stream",
          "name": "stdout",
          "text": [
            "<class 'int'>\n",
            "<class 'str'>\n",
            "<class 'bool'>\n",
            "<class 'list'>\n",
            "<class 'tuple'>\n",
            "<class 'dict'>\n"
          ]
        }
      ],
      "source": [
        "x=12\n",
        "print(type(x))\n",
        "\n",
        "name=\"Shubha\"\n",
        "print(type(name))  \n",
        "\n",
        "flag=True\n",
        "print(type(flag))\n",
        "\n",
        "cars=[\"Honda\",\"Toyota\", \"Suzuki\"]\n",
        "values=[1,2,3,4,5]\n",
        "print(type(cars))\n",
        "\n",
        "days = (\"Sunday\",\"mon\",\"tue\",\"wed\",\"thur\",\"fri\",\"sat\",\"sun\")\n",
        "print(type(days))\n",
        "\n",
        "day2={1:\"sunday\", 2:\"Monday\"}\n",
        "print(type(day2))\n",
        "\n"
      ]
    },
    {
      "cell_type": "markdown",
      "source": [
        "#operators\n",
        "\n",
        "\n",
        "\n",
        "```\n",
        "\n",
        "#Arithmatic operators : + , - ,* ,/ (integer division)),% , **(exponent) \n",
        "#Logical operators : and, or, not\n",
        "#Comparison : ==,!=,>,<,>=,<=\n",
        "#Assignment : =,+=, -=,*=,/=,%=,**=\n",
        "#Membership : in, not in\n",
        "```\n",
        "\n",
        "\n",
        "\n"
      ],
      "metadata": {
        "id": "ZJg_YZrkROfV"
      }
    },
    {
      "cell_type": "code",
      "source": [
        "days=(\"sun\",\"mon\",\"tue\",\"wed\", \"thur\")\n",
        "value = [1,2,3,4,5]\n",
        "exists = \"sun\" not in days\n",
        "available = 1 in value\n",
        "print(exists,available)\n"
      ],
      "metadata": {
        "colab": {
          "base_uri": "https://localhost:8080/"
        },
        "id": "1yB1Kyd6Syiq",
        "outputId": "f9488a85-f545-43cc-8016-935720e198b3"
      },
      "execution_count": 5,
      "outputs": [
        {
          "output_type": "stream",
          "name": "stdout",
          "text": [
            "False True\n"
          ]
        }
      ]
    },
    {
      "cell_type": "markdown",
      "source": [
        "## Conditional Statements : if statement, if-else statement, nested if statement"
      ],
      "metadata": {
        "id": "Mi0k6EGKTjxe"
      }
    },
    {
      "cell_type": "code",
      "source": [
        "x=5\n",
        "if (x>10):\n",
        "  print(\"I'm inside the IF condition\")\n",
        "  print(\"Hello\")\n",
        "else:\n",
        "  print(\"I'm in the else condition\")\n",
        "print(\"I'm outside the IF condition\")"
      ],
      "metadata": {
        "colab": {
          "base_uri": "https://localhost:8080/"
        },
        "id": "kNZ91oGKT4hr",
        "outputId": "7ab82cd0-5acf-4ce7-ab96-a5c05ea4620a"
      },
      "execution_count": 9,
      "outputs": [
        {
          "output_type": "stream",
          "name": "stdout",
          "text": [
            "I'm in the else condition\n",
            "I'm outside the IF condition\n"
          ]
        }
      ]
    },
    {
      "cell_type": "code",
      "source": [
        "#Nested IF Condition\n",
        "''' Group comment\n",
        "in java -------\n",
        "if(x<5){\n",
        "  print(\"x is less than 5\")\n",
        "  }\n",
        "else if(x<10){\n",
        "  print(\"x is less than 10\")\n",
        "  }\n",
        "else{\n",
        "  print(\"x is greater than 10\")\n",
        "  }\n",
        "------- '''\n",
        "\n",
        "if(x<5):\n",
        "  print(\"x is less than 5\")\n",
        "elif(x<10):\n",
        "  print(\"x is less than 10\")\n",
        "else:\n",
        "  print(\"x is greater than 10\")\n",
        "\n"
      ],
      "metadata": {
        "colab": {
          "base_uri": "https://localhost:8080/"
        },
        "id": "ywGiuZJKVQVh",
        "outputId": "cb713161-e9d9-41e5-9610-ce0cc8db719d"
      },
      "execution_count": 10,
      "outputs": [
        {
          "output_type": "stream",
          "name": "stdout",
          "text": [
            "x is less than 10\n"
          ]
        }
      ]
    },
    {
      "cell_type": "code",
      "source": [
        "#Iteration Statement For, While\n",
        "\n",
        "val=[1,2,3,4,5]\n",
        "'''\n",
        "for(int i=0:i<val.size(),++i){\n",
        "  print(val[i]\n",
        "}\n",
        "\n",
        "\n",
        "while(i<items.length()) {\n",
        "  print(itam[i])\n",
        "  i=i+1\n",
        "}\n",
        "'''\n",
        "\n",
        "range(5) #[0,1,2,3,4]\n",
        "items=range(5)\n",
        "for i in items:\n",
        "  print(i)\n",
        "itam=list(range(5))\n",
        "print(itam)\n",
        "i=0\n",
        "while i<len(itam):\n",
        "  print(itam[i])\n",
        "  i=i+1\n",
        "\n",
        "# i is autoincremented withi for loop unlike while\n",
        "#mostly try to use for loops rather than while loop"
      ],
      "metadata": {
        "colab": {
          "base_uri": "https://localhost:8080/"
        },
        "id": "X-OpG5diWcow",
        "outputId": "cf659dc5-62c9-47cc-d3c7-6bc3d8039ad4"
      },
      "execution_count": 16,
      "outputs": [
        {
          "output_type": "stream",
          "name": "stdout",
          "text": [
            "0\n",
            "1\n",
            "2\n",
            "3\n",
            "4\n",
            "[0, 1, 2, 3, 4]\n",
            "0\n",
            "1\n",
            "2\n",
            "3\n",
            "4\n"
          ]
        }
      ]
    },
    {
      "cell_type": "markdown",
      "source": [
        "### Remember For loop and Condtional statement identations. That is enough for now. "
      ],
      "metadata": {
        "id": "RYLgR98kZHxQ"
      }
    },
    {
      "cell_type": "markdown",
      "source": [
        "## **Functional Language Concepts**"
      ],
      "metadata": {
        "id": "tVPLkkk6ZVml"
      }
    },
    {
      "cell_type": "code",
      "source": [
        "#Define Fuctions in java : <accessmodifier  returntype  function_name(arguments)>\n",
        "#in Python\n",
        "def funcInit(x):\n",
        "  print(\"My First Function\")\n",
        "  if (x<10):\n",
        "    print(\"X is less than 10\")\n",
        "  else:\n",
        "    print(\"X is greater than 10\")\n",
        "  return \"subha\"\n",
        "\n",
        "\n",
        "\n",
        "#print(\"not indented, so i'm outside function\")\n",
        "name=funcInit(6)\n",
        "print(name)\n",
        "  \n"
      ],
      "metadata": {
        "colab": {
          "base_uri": "https://localhost:8080/"
        },
        "id": "4aFoHG_WZbJP",
        "outputId": "f9e6839b-a3d8-4bd2-da33-3374d53ee3b6"
      },
      "execution_count": 20,
      "outputs": [
        {
          "output_type": "stream",
          "name": "stdout",
          "text": [
            "My First Function\n",
            "X is less than 10\n",
            "subha\n"
          ]
        }
      ]
    },
    {
      "cell_type": "markdown",
      "source": [
        "# **Numpy Arrays**\n",
        "\n",
        "numerical python"
      ],
      "metadata": {
        "id": "-Zgg3LH5bo7Q"
      }
    },
    {
      "cell_type": "code",
      "source": [
        "import numpy as np  \n",
        "#numpy is computationally and memory wise much faster, efficient and easy in mulidimensional arrays\n",
        "''' therefore computations, comparisons  are much faster\n",
        "efficient implementation of list\n",
        "therefore we used in machine learning etc. \n",
        "'''\n",
        "num_list = [10,11,12,13,14]\n",
        "num_array=np.array(num_list)\n",
        "type(num_list),type(num_array), num_array.shape\n",
        "\n",
        "#Merge couple of python lists into one numpy array\n",
        "list1=[10,12,13,14]\n",
        "list2=[15,16,17,18]\n",
        "list3=[45,32,10,21]\n",
        "num_array_2D = np.array([list1,list2,list3])\n",
        "num_array_2D.shape   #produces 2D Array of 3 rows and 4 columns. this statement shows the shape/dimentions\n",
        "\n",
        "\n",
        "values = np.arange(0,5) #=range(5)\n",
        "print(values,type(values), values.shape)\n",
        "\n",
        "print(\"\\n\")\n",
        "\n",
        "\n",
        "print(\"One  arrays\")\n",
        "#how to create array of ones\n",
        "ones_np_array = np.ones(6)\n",
        "print(ones_np_array, ones_np_array.shape)\n",
        "\n",
        "ones_np_2Darray = np.ones((6,5))\n",
        "print(ones_np_2Darray, ones_np_2Darray.shape)\n",
        "print(\"\\n\")\n",
        "\n",
        "print(\"Zero arrays\")\n",
        "#how to create array of zeros\n",
        "zeros_np_array = np.zeros(3)\n",
        "print(ones_np_array, ones_np_array.shape)\n",
        "\n",
        "zeros_np_3Darray = np.zeros((6,5,4))   #6=no.of2d arrays(rows,columns), 5=no.of rows of 2d array, 4= no.of columns of 2d array\n",
        "print(zeros_np_3Darray, zeros_np_3Darray.shape)"
      ],
      "metadata": {
        "colab": {
          "base_uri": "https://localhost:8080/"
        },
        "id": "C-wq_ZMmbs0r",
        "outputId": "e857d17c-950e-4cb4-828c-4f7be271c480"
      },
      "execution_count": 32,
      "outputs": [
        {
          "output_type": "stream",
          "name": "stdout",
          "text": [
            "[0 1 2 3 4] <class 'numpy.ndarray'> (5,)\n",
            "\n",
            "\n",
            "One  arrays\n",
            "[1. 1. 1. 1. 1. 1.] (6,)\n",
            "[[1. 1. 1. 1. 1.]\n",
            " [1. 1. 1. 1. 1.]\n",
            " [1. 1. 1. 1. 1.]\n",
            " [1. 1. 1. 1. 1.]\n",
            " [1. 1. 1. 1. 1.]\n",
            " [1. 1. 1. 1. 1.]] (6, 5)\n",
            "\n",
            "\n",
            "Zero arrays\n",
            "[1. 1. 1. 1. 1. 1.] (6,)\n",
            "[[[0. 0. 0. 0.]\n",
            "  [0. 0. 0. 0.]\n",
            "  [0. 0. 0. 0.]\n",
            "  [0. 0. 0. 0.]\n",
            "  [0. 0. 0. 0.]]\n",
            "\n",
            " [[0. 0. 0. 0.]\n",
            "  [0. 0. 0. 0.]\n",
            "  [0. 0. 0. 0.]\n",
            "  [0. 0. 0. 0.]\n",
            "  [0. 0. 0. 0.]]\n",
            "\n",
            " [[0. 0. 0. 0.]\n",
            "  [0. 0. 0. 0.]\n",
            "  [0. 0. 0. 0.]\n",
            "  [0. 0. 0. 0.]\n",
            "  [0. 0. 0. 0.]]\n",
            "\n",
            " [[0. 0. 0. 0.]\n",
            "  [0. 0. 0. 0.]\n",
            "  [0. 0. 0. 0.]\n",
            "  [0. 0. 0. 0.]\n",
            "  [0. 0. 0. 0.]]\n",
            "\n",
            " [[0. 0. 0. 0.]\n",
            "  [0. 0. 0. 0.]\n",
            "  [0. 0. 0. 0.]\n",
            "  [0. 0. 0. 0.]\n",
            "  [0. 0. 0. 0.]]\n",
            "\n",
            " [[0. 0. 0. 0.]\n",
            "  [0. 0. 0. 0.]\n",
            "  [0. 0. 0. 0.]\n",
            "  [0. 0. 0. 0.]\n",
            "  [0. 0. 0. 0.]]] (6, 5, 4)\n"
          ]
        }
      ]
    },
    {
      "cell_type": "code",
      "source": [
        "#experment creating 4D array\n",
        "zeros_np_4Darray = np.zeros((6,5,4,2))   #6=no.of rows of 4d arrays, 5=no.of rows of 2d array, 4=no.of rows of 2d array, 2= no.of columns of 2d array\n",
        "print(zeros_np_4Darray, zeros_np_4Darray.shape)"
      ],
      "metadata": {
        "colab": {
          "base_uri": "https://localhost:8080/"
        },
        "id": "AE9JFnYOgk_u",
        "outputId": "58583773-622e-48ca-fbda-c2ce47524403"
      },
      "execution_count": 33,
      "outputs": [
        {
          "output_type": "stream",
          "name": "stdout",
          "text": [
            "[[[[0. 0.]\n",
            "   [0. 0.]\n",
            "   [0. 0.]\n",
            "   [0. 0.]]\n",
            "\n",
            "  [[0. 0.]\n",
            "   [0. 0.]\n",
            "   [0. 0.]\n",
            "   [0. 0.]]\n",
            "\n",
            "  [[0. 0.]\n",
            "   [0. 0.]\n",
            "   [0. 0.]\n",
            "   [0. 0.]]\n",
            "\n",
            "  [[0. 0.]\n",
            "   [0. 0.]\n",
            "   [0. 0.]\n",
            "   [0. 0.]]\n",
            "\n",
            "  [[0. 0.]\n",
            "   [0. 0.]\n",
            "   [0. 0.]\n",
            "   [0. 0.]]]\n",
            "\n",
            "\n",
            " [[[0. 0.]\n",
            "   [0. 0.]\n",
            "   [0. 0.]\n",
            "   [0. 0.]]\n",
            "\n",
            "  [[0. 0.]\n",
            "   [0. 0.]\n",
            "   [0. 0.]\n",
            "   [0. 0.]]\n",
            "\n",
            "  [[0. 0.]\n",
            "   [0. 0.]\n",
            "   [0. 0.]\n",
            "   [0. 0.]]\n",
            "\n",
            "  [[0. 0.]\n",
            "   [0. 0.]\n",
            "   [0. 0.]\n",
            "   [0. 0.]]\n",
            "\n",
            "  [[0. 0.]\n",
            "   [0. 0.]\n",
            "   [0. 0.]\n",
            "   [0. 0.]]]\n",
            "\n",
            "\n",
            " [[[0. 0.]\n",
            "   [0. 0.]\n",
            "   [0. 0.]\n",
            "   [0. 0.]]\n",
            "\n",
            "  [[0. 0.]\n",
            "   [0. 0.]\n",
            "   [0. 0.]\n",
            "   [0. 0.]]\n",
            "\n",
            "  [[0. 0.]\n",
            "   [0. 0.]\n",
            "   [0. 0.]\n",
            "   [0. 0.]]\n",
            "\n",
            "  [[0. 0.]\n",
            "   [0. 0.]\n",
            "   [0. 0.]\n",
            "   [0. 0.]]\n",
            "\n",
            "  [[0. 0.]\n",
            "   [0. 0.]\n",
            "   [0. 0.]\n",
            "   [0. 0.]]]\n",
            "\n",
            "\n",
            " [[[0. 0.]\n",
            "   [0. 0.]\n",
            "   [0. 0.]\n",
            "   [0. 0.]]\n",
            "\n",
            "  [[0. 0.]\n",
            "   [0. 0.]\n",
            "   [0. 0.]\n",
            "   [0. 0.]]\n",
            "\n",
            "  [[0. 0.]\n",
            "   [0. 0.]\n",
            "   [0. 0.]\n",
            "   [0. 0.]]\n",
            "\n",
            "  [[0. 0.]\n",
            "   [0. 0.]\n",
            "   [0. 0.]\n",
            "   [0. 0.]]\n",
            "\n",
            "  [[0. 0.]\n",
            "   [0. 0.]\n",
            "   [0. 0.]\n",
            "   [0. 0.]]]\n",
            "\n",
            "\n",
            " [[[0. 0.]\n",
            "   [0. 0.]\n",
            "   [0. 0.]\n",
            "   [0. 0.]]\n",
            "\n",
            "  [[0. 0.]\n",
            "   [0. 0.]\n",
            "   [0. 0.]\n",
            "   [0. 0.]]\n",
            "\n",
            "  [[0. 0.]\n",
            "   [0. 0.]\n",
            "   [0. 0.]\n",
            "   [0. 0.]]\n",
            "\n",
            "  [[0. 0.]\n",
            "   [0. 0.]\n",
            "   [0. 0.]\n",
            "   [0. 0.]]\n",
            "\n",
            "  [[0. 0.]\n",
            "   [0. 0.]\n",
            "   [0. 0.]\n",
            "   [0. 0.]]]\n",
            "\n",
            "\n",
            " [[[0. 0.]\n",
            "   [0. 0.]\n",
            "   [0. 0.]\n",
            "   [0. 0.]]\n",
            "\n",
            "  [[0. 0.]\n",
            "   [0. 0.]\n",
            "   [0. 0.]\n",
            "   [0. 0.]]\n",
            "\n",
            "  [[0. 0.]\n",
            "   [0. 0.]\n",
            "   [0. 0.]\n",
            "   [0. 0.]]\n",
            "\n",
            "  [[0. 0.]\n",
            "   [0. 0.]\n",
            "   [0. 0.]\n",
            "   [0. 0.]]\n",
            "\n",
            "  [[0. 0.]\n",
            "   [0. 0.]\n",
            "   [0. 0.]\n",
            "   [0. 0.]]]] (6, 5, 4, 2)\n"
          ]
        }
      ]
    },
    {
      "cell_type": "markdown",
      "source": [
        "# **Random Numbers**"
      ],
      "metadata": {
        "id": "ru8rKl6jhV25"
      }
    },
    {
      "cell_type": "code",
      "source": [
        "random_np_3Darray=np.random.randn(4,5)\n",
        "print(random_np_3Darray, random_np_3Darray.shape)\n",
        "\n",
        "random_np_3DIntarray=np.random.randint(4,5)\n",
        "print(random_np_3DIntarray, type(random_np_3DIntarray))"
      ],
      "metadata": {
        "colab": {
          "base_uri": "https://localhost:8080/"
        },
        "id": "PfgW6rmohc6i",
        "outputId": "b10f060a-391d-4cda-c5ec-06c78752deab"
      },
      "execution_count": 40,
      "outputs": [
        {
          "output_type": "stream",
          "name": "stdout",
          "text": [
            "[[-1.24035111  1.02341302  1.44223976 -0.89199594  1.48976426]\n",
            " [-1.28942313  1.06528336 -0.7484188  -0.83958076 -1.18414878]\n",
            " [-0.70828923  0.66030161  0.3263614  -0.53302563  1.82236036]\n",
            " [-0.96220405  1.26427099  0.53453682  0.31630439 -0.28259055]] (4, 5)\n",
            "4 <class 'int'>\n"
          ]
        }
      ]
    },
    {
      "cell_type": "markdown",
      "source": [
        "#Next week ------\n",
        "#Numpy Slicing , Reshaping, Matrix operations\n"
      ],
      "metadata": {
        "id": "fd7sW09HiLni"
      }
    }
  ]
}